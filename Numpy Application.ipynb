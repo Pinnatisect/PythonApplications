{
 "cells": [
  {
   "cell_type": "code",
   "execution_count": 2,
   "metadata": {},
   "outputs": [
    {
     "name": "stdout",
     "output_type": "stream",
     "text": [
      "[2 3 4]\n"
     ]
    },
    {
     "data": {
      "text/plain": [
       "numpy.ndarray"
      ]
     },
     "execution_count": 2,
     "metadata": {},
     "output_type": "execute_result"
    }
   ],
   "source": [
    "import numpy as np\n",
    "x = np.array([2,3,4])\n",
    "print(x)\n",
    "type(x)"
   ]
  },
  {
   "cell_type": "code",
   "execution_count": 7,
   "metadata": {},
   "outputs": [
    {
     "name": "stdout",
     "output_type": "stream",
     "text": [
      "[[2 3 4]\n",
      " [3 5 6]]\n"
     ]
    }
   ],
   "source": [
    "y = np.array([[2,3,4],[3,5,6]])\n",
    "print(y)"
   ]
  },
  {
   "cell_type": "code",
   "execution_count": 14,
   "metadata": {},
   "outputs": [
    {
     "name": "stdout",
     "output_type": "stream",
     "text": [
      "[[[1]\n",
      "  [2]]\n",
      "\n",
      " [[4]\n",
      "  [7]]]\n",
      "3\n",
      "(2, 2, 1)\n",
      "4\n"
     ]
    }
   ],
   "source": [
    "z = np.array([[[1],[2]],[[4],[7]]])\n",
    "print(z)\n",
    "print(z.ndim)\n",
    "print(z.shape)\n",
    "print(z.size)"
   ]
  },
  {
   "cell_type": "code",
   "execution_count": 18,
   "metadata": {},
   "outputs": [
    {
     "name": "stdout",
     "output_type": "stream",
     "text": [
      "[2 3 4 5 6 7 8 9]\n",
      "[2 5 8]\n"
     ]
    }
   ],
   "source": [
    "x = np.arange(2,10)\n",
    "print(x)\n",
    "##default is +1\n",
    "x = np.arange(2,10,3)\n",
    "print(x)\n",
    "#arange does not take last value"
   ]
  },
  {
   "cell_type": "code",
   "execution_count": 19,
   "metadata": {},
   "outputs": [
    {
     "name": "stdout",
     "output_type": "stream",
     "text": [
      "[ 1.    3.25  5.5   7.75 10.  ]\n"
     ]
    }
   ],
   "source": [
    "x = np.linspace(1, 10, 5)\n",
    "print(x)\n",
    "# linspace takes last value"
   ]
  },
  {
   "cell_type": "code",
   "execution_count": 23,
   "metadata": {},
   "outputs": [
    {
     "name": "stdout",
     "output_type": "stream",
     "text": [
      "[0. 0. 0. 0. 0.]\n",
      "[[0. 0. 0.]\n",
      " [0. 0. 0.]]\n",
      "[[[1. 1. 1. 1.]\n",
      "  [1. 1. 1. 1.]\n",
      "  [1. 1. 1. 1.]]\n",
      "\n",
      " [[1. 1. 1. 1.]\n",
      "  [1. 1. 1. 1.]\n",
      "  [1. 1. 1. 1.]]]\n"
     ]
    }
   ],
   "source": [
    "# zeros gives you arrays with all-zeros\n",
    "x = np.zeros(5)\n",
    "print(x)\n",
    "\n",
    "x = np.zeros((2,3))\n",
    "print(x)\n",
    "\n",
    "# ones gives you arrays with all-ones\n",
    "x = np.ones((2,3,4))\n",
    "print(x)"
   ]
  },
  {
   "cell_type": "code",
   "execution_count": 24,
   "metadata": {},
   "outputs": [
    {
     "name": "stdout",
     "output_type": "stream",
     "text": [
      "[[1. 0. 0. 0. 0.]\n",
      " [0. 1. 0. 0. 0.]\n",
      " [0. 0. 1. 0. 0.]\n",
      " [0. 0. 0. 1. 0.]\n",
      " [0. 0. 0. 0. 1.]]\n"
     ]
    }
   ],
   "source": [
    "# identity matrix\n",
    "x = np.eye(5)\n",
    "print(x)"
   ]
  },
  {
   "cell_type": "code",
   "execution_count": 25,
   "metadata": {},
   "outputs": [
    {
     "name": "stdout",
     "output_type": "stream",
     "text": [
      "[[1 0 0 0]\n",
      " [0 2 0 0]\n",
      " [0 0 3 0]\n",
      " [0 0 0 4]]\n"
     ]
    }
   ],
   "source": [
    "# elementary row operations on identity matrix\n",
    "x = np.diag(np.array([1,2,3,4]))\n",
    "print(x)"
   ]
  },
  {
   "cell_type": "code",
   "execution_count": 29,
   "metadata": {},
   "outputs": [
    {
     "name": "stdout",
     "output_type": "stream",
     "text": [
      "[0.12309077 0.61444493 0.99267216 0.17894714]\n",
      "[-1.07910474 -0.59762774 -0.36782775  0.45900174]\n",
      "[[0.26225499 0.28553835 0.98465464 0.49954491 0.06357158]\n",
      " [0.21864959 0.21963405 0.12524848 0.1456061  0.81800427]\n",
      " [0.18716609 0.0985014  0.52200957 0.80168908 0.784662  ]]\n"
     ]
    }
   ],
   "source": [
    "# random numbers between 0 and 1\n",
    "x = np.random.random(4)\n",
    "print(x)\n",
    "\n",
    "x = np.random.random((3,5))\n",
    "print(x)\n",
    "\n",
    "# standard normal distribution\n",
    "x = np.random.randn(4)\n",
    "print(x)"
   ]
  },
  {
   "cell_type": "code",
   "execution_count": 31,
   "metadata": {},
   "outputs": [
    {
     "name": "stdout",
     "output_type": "stream",
     "text": [
      "[3 5 5 6 9]\n",
      "[[9 4 4]\n",
      " [3 3 6]]\n"
     ]
    }
   ],
   "source": [
    "#random numbers in given range, note that last number is not in range\n",
    "x = np.random.randint(2,10,5)\n",
    "print(x)\n",
    "\n",
    "x = np.random.randint(2,10,(2,3))\n",
    "print(x)"
   ]
  },
  {
   "cell_type": "code",
   "execution_count": 35,
   "metadata": {},
   "outputs": [
    {
     "name": "stdout",
     "output_type": "stream",
     "text": [
      "[ 36  38  87  22  14  61 184 117 179 156]\n",
      "22\n"
     ]
    }
   ],
   "source": [
    "x = np.random.randint(1,200,10)\n",
    "print(x)\n"
   ]
  },
  {
   "cell_type": "code",
   "execution_count": 43,
   "metadata": {},
   "outputs": [
    {
     "name": "stdout",
     "output_type": "stream",
     "text": [
      "22\n",
      "[87 22 14]\n",
      "[87 61]\n",
      "117\n",
      "[184 117]\n",
      "[38 22 61]\n",
      "[156 179 117 184  61  14  22  87  38  36]\n"
     ]
    }
   ],
   "source": [
    "# get 3rd index\n",
    "print(x[3])\n",
    "\n",
    "print(x[2:5])\n",
    "print(x[[2,5]])\n",
    "print(x[-3])\n",
    "print(x[-4:-2])\n",
    "print(x[1:7:2])\n",
    "# reverse the vector\n",
    "print(x[::-1])"
   ]
  },
  {
   "cell_type": "code",
   "execution_count": 44,
   "metadata": {},
   "outputs": [
    {
     "name": "stdout",
     "output_type": "stream",
     "text": [
      "[[18 37 52 87  4]\n",
      " [54 40 11 63 29]\n",
      " [43 39 33 22 84]\n",
      " [52 67 13 84 90]]\n"
     ]
    }
   ],
   "source": [
    "x = np.random.randint(1, 100, (4,5))\n",
    "print(x)"
   ]
  },
  {
   "cell_type": "code",
   "execution_count": 49,
   "metadata": {},
   "outputs": [
    {
     "name": "stdout",
     "output_type": "stream",
     "text": [
      "22\n",
      "[43 39 33 22 84]\n",
      "[37 40 39 67]\n"
     ]
    }
   ],
   "source": [
    "# get 2nd row and 3rd column value\n",
    "print(x[2,3])\n",
    "\n",
    "# get 2nd row values\n",
    "print(x[2, :])\n",
    "\n",
    "# get 1st column- 1 is the index!\n",
    "print(x[:, 1])"
   ]
  },
  {
   "cell_type": "code",
   "execution_count": 50,
   "metadata": {},
   "outputs": [
    {
     "name": "stdout",
     "output_type": "stream",
     "text": [
      "[8 4 2 8 6]\n"
     ]
    }
   ],
   "source": [
    "x = np.random.randint(1, 10, 5)\n",
    "print(x)"
   ]
  },
  {
   "cell_type": "code",
   "execution_count": 53,
   "metadata": {},
   "outputs": [
    {
     "name": "stdout",
     "output_type": "stream",
     "text": [
      "[11  7  5 11  9]\n",
      "[24 12  6 24 18]\n",
      "[64 16  4 64 36]\n",
      "[ True  True False  True  True]\n"
     ]
    }
   ],
   "source": [
    "# mathematical operations on arrays\n",
    "print (x + 3)\n",
    "print(x * 3)\n",
    "print (x ** 2)\n",
    "\n",
    "# logical operations\n",
    "print(x > 3)\n"
   ]
  },
  {
   "cell_type": "code",
   "execution_count": 54,
   "metadata": {},
   "outputs": [
    {
     "name": "stdout",
     "output_type": "stream",
     "text": [
      "[ True False  True False  True]\n"
     ]
    }
   ],
   "source": [
    "ix = np.array([True, False, True, False, True])\n",
    "print(ix)"
   ]
  },
  {
   "cell_type": "code",
   "execution_count": 55,
   "metadata": {},
   "outputs": [
    {
     "name": "stdout",
     "output_type": "stream",
     "text": [
      "[8 2 6]\n"
     ]
    }
   ],
   "source": [
    "# take true values from a matrix\n",
    "print(x[ix])"
   ]
  },
  {
   "cell_type": "code",
   "execution_count": 3,
   "metadata": {},
   "outputs": [
    {
     "name": "stdout",
     "output_type": "stream",
     "text": [
      "[ 20  30  40 -10  20]\n"
     ]
    }
   ],
   "source": [
    "x = np.array([20, 30, 40, -10, 20])\n",
    "print(x)"
   ]
  },
  {
   "cell_type": "code",
   "execution_count": 6,
   "metadata": {},
   "outputs": [
    {
     "name": "stdout",
     "output_type": "stream",
     "text": [
      "[ True  True  True False  True]\n",
      "[20 30 40 20]\n",
      "[20 30 40 20]\n"
     ]
    }
   ],
   "source": [
    "ix = x > 0\n",
    "print(ix)\n",
    "# take true values from matrix\n",
    "print(x[ix])\n",
    "print(x[x > 0])"
   ]
  }
 ],
 "metadata": {
  "kernelspec": {
   "display_name": "Python 3",
   "language": "python",
   "name": "python3"
  },
  "language_info": {
   "codemirror_mode": {
    "name": "ipython",
    "version": 3
   },
   "file_extension": ".py",
   "mimetype": "text/x-python",
   "name": "python",
   "nbconvert_exporter": "python",
   "pygments_lexer": "ipython3",
   "version": "3.7.4"
  }
 },
 "nbformat": 4,
 "nbformat_minor": 2
}
